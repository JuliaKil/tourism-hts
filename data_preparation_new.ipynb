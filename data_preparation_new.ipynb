{
 "cells": [
  {
   "cell_type": "code",
   "execution_count": 1,
   "metadata": {},
   "outputs": [],
   "source": [
    "import pandas as pd"
   ]
  },
  {
   "cell_type": "markdown",
   "metadata": {},
   "source": [
    "# Подготовка данных по годам"
   ]
  },
  {
   "cell_type": "code",
   "execution_count": 2,
   "metadata": {},
   "outputs": [],
   "source": [
    "df = pd.read_excel('data_new.xlsx', engine='openpyxl')"
   ]
  },
  {
   "cell_type": "code",
   "execution_count": 3,
   "metadata": {
    "scrolled": true
   },
   "outputs": [],
   "source": [
    "df = df.drop(columns=['ОКАТО'])\n",
    "# отбрасывание столбцов с информацией по кварталам\n",
    "qs = ['I кв ', 'II кв ', 'III кв ', 'IV кв ']\n",
    "for i in range(2016, 2022):\n",
    "    if i != 2021:\n",
    "        df = df = df.drop(columns=[str(i)+' г.'])\n",
    "    for q in qs:\n",
    "        df = df.drop(columns=[str(q)+str(i)])"
   ]
  },
  {
   "cell_type": "code",
   "execution_count": 4,
   "metadata": {},
   "outputs": [],
   "source": [
    "# удаление строк, не относящихся к областям\n",
    "df = df.drop(index=[0, 1, 20, 24, 25, 33, 34, 43, 51, 66, 70, 71, 72, 74, 75, 86, 87, 99, 100])"
   ]
  },
  {
   "cell_type": "code",
   "execution_count": 5,
   "metadata": {},
   "outputs": [],
   "source": [
    "# присвоение областям соответствующих названий округов\n",
    "df['Округ'] = ''\n",
    "df.loc[2:19,'Округ'] = 'Центральный федеральный округ'\n",
    "df.loc[21:32,'Округ'] = 'Северо-Западный федеральный округ'\n",
    "df.loc[35:42,'Округ'] = 'Южный федеральный округ'\n",
    "df.loc[44:50,'Округ'] = 'Северо-Кавказский федеральный округ'\n",
    "df.loc[52:65,'Округ'] = 'Приволжский федеральный округ'\n",
    "df.loc[67:73,'Округ'] = 'Уральский федеральный округ'\n",
    "df.loc[76:85,'Округ'] = 'Сибирский федеральный округ'\n",
    "df.loc[88:98,'Округ'] = 'Дальневосточный федеральный округ'"
   ]
  },
  {
   "cell_type": "code",
   "execution_count": 6,
   "metadata": {},
   "outputs": [],
   "source": [
    "# изменение названий столбцов\n",
    "df = df.rename(columns={\"Субъект РФ\": \"Область\"})\n",
    "for i in range(2013, 2021):\n",
    "    df = df.rename(columns={str(i)+' г. (досчет)': str(i)})"
   ]
  },
  {
   "cell_type": "code",
   "execution_count": 8,
   "metadata": {},
   "outputs": [],
   "source": [
    "# unpivot\n",
    "df = pd.melt(df, id_vars=['Область', 'Округ'])\n",
    "df = df.rename(columns={\"variable\": \"Год\", \"value\": \"Кол-во\"})"
   ]
  },
  {
   "cell_type": "code",
   "execution_count": 9,
   "metadata": {
    "scrolled": false
   },
   "outputs": [
    {
     "data": {
      "text/html": [
       "<div>\n",
       "<style scoped>\n",
       "    .dataframe tbody tr th:only-of-type {\n",
       "        vertical-align: middle;\n",
       "    }\n",
       "\n",
       "    .dataframe tbody tr th {\n",
       "        vertical-align: top;\n",
       "    }\n",
       "\n",
       "    .dataframe thead th {\n",
       "        text-align: right;\n",
       "    }\n",
       "</style>\n",
       "<table border=\"1\" class=\"dataframe\">\n",
       "  <thead>\n",
       "    <tr style=\"text-align: right;\">\n",
       "      <th></th>\n",
       "      <th>Область</th>\n",
       "      <th>Округ</th>\n",
       "      <th>Год</th>\n",
       "      <th>Кол-во</th>\n",
       "    </tr>\n",
       "  </thead>\n",
       "  <tbody>\n",
       "    <tr>\n",
       "      <th>0</th>\n",
       "      <td>Белгородская область</td>\n",
       "      <td>Центральный федеральный округ</td>\n",
       "      <td>2013</td>\n",
       "      <td>156801.0</td>\n",
       "    </tr>\n",
       "    <tr>\n",
       "      <th>1</th>\n",
       "      <td>Брянская область</td>\n",
       "      <td>Центральный федеральный округ</td>\n",
       "      <td>2013</td>\n",
       "      <td>113056.0</td>\n",
       "    </tr>\n",
       "    <tr>\n",
       "      <th>2</th>\n",
       "      <td>Владимирская область</td>\n",
       "      <td>Центральный федеральный округ</td>\n",
       "      <td>2013</td>\n",
       "      <td>357276.0</td>\n",
       "    </tr>\n",
       "    <tr>\n",
       "      <th>3</th>\n",
       "      <td>Воронежская область</td>\n",
       "      <td>Центральный федеральный округ</td>\n",
       "      <td>2013</td>\n",
       "      <td>247380.0</td>\n",
       "    </tr>\n",
       "    <tr>\n",
       "      <th>4</th>\n",
       "      <td>Ивановская область</td>\n",
       "      <td>Центральный федеральный округ</td>\n",
       "      <td>2013</td>\n",
       "      <td>182692.0</td>\n",
       "    </tr>\n",
       "    <tr>\n",
       "      <th>...</th>\n",
       "      <td>...</td>\n",
       "      <td>...</td>\n",
       "      <td>...</td>\n",
       "      <td>...</td>\n",
       "    </tr>\n",
       "    <tr>\n",
       "      <th>651</th>\n",
       "      <td>Амурская область</td>\n",
       "      <td>Дальневосточный федеральный округ</td>\n",
       "      <td>2020</td>\n",
       "      <td>244300.0</td>\n",
       "    </tr>\n",
       "    <tr>\n",
       "      <th>652</th>\n",
       "      <td>Магаданская область</td>\n",
       "      <td>Дальневосточный федеральный округ</td>\n",
       "      <td>2020</td>\n",
       "      <td>61126.0</td>\n",
       "    </tr>\n",
       "    <tr>\n",
       "      <th>653</th>\n",
       "      <td>Сахалинская область</td>\n",
       "      <td>Дальневосточный федеральный округ</td>\n",
       "      <td>2020</td>\n",
       "      <td>188127.0</td>\n",
       "    </tr>\n",
       "    <tr>\n",
       "      <th>654</th>\n",
       "      <td>Еврейская автономная область</td>\n",
       "      <td>Дальневосточный федеральный округ</td>\n",
       "      <td>2020</td>\n",
       "      <td>26292.0</td>\n",
       "    </tr>\n",
       "    <tr>\n",
       "      <th>655</th>\n",
       "      <td>Чукотский автономный округ</td>\n",
       "      <td>Дальневосточный федеральный округ</td>\n",
       "      <td>2020</td>\n",
       "      <td>15582.0</td>\n",
       "    </tr>\n",
       "  </tbody>\n",
       "</table>\n",
       "<p>656 rows × 4 columns</p>\n",
       "</div>"
      ],
      "text/plain": [
       "                                  Область                              Округ  \\\n",
       "0                    Белгородская область      Центральный федеральный округ   \n",
       "1                        Брянская область      Центральный федеральный округ   \n",
       "2                    Владимирская область      Центральный федеральный округ   \n",
       "3                     Воронежская область      Центральный федеральный округ   \n",
       "4                      Ивановская область      Центральный федеральный округ   \n",
       "..                                    ...                                ...   \n",
       "651                      Амурская область  Дальневосточный федеральный округ   \n",
       "652                   Магаданская область  Дальневосточный федеральный округ   \n",
       "653                   Сахалинская область  Дальневосточный федеральный округ   \n",
       "654          Еврейская автономная область  Дальневосточный федеральный округ   \n",
       "655            Чукотский автономный округ  Дальневосточный федеральный округ   \n",
       "\n",
       "      Год    Кол-во  \n",
       "0    2013  156801.0  \n",
       "1    2013  113056.0  \n",
       "2    2013  357276.0  \n",
       "3    2013  247380.0  \n",
       "4    2013  182692.0  \n",
       "..    ...       ...  \n",
       "651  2020  244300.0  \n",
       "652  2020   61126.0  \n",
       "653  2020  188127.0  \n",
       "654  2020   26292.0  \n",
       "655  2020   15582.0  \n",
       "\n",
       "[656 rows x 4 columns]"
      ]
     },
     "execution_count": 9,
     "metadata": {},
     "output_type": "execute_result"
    }
   ],
   "source": [
    "df"
   ]
  },
  {
   "cell_type": "code",
   "execution_count": 10,
   "metadata": {},
   "outputs": [],
   "source": [
    "df.to_csv('data_y.csv')"
   ]
  },
  {
   "cell_type": "markdown",
   "metadata": {},
   "source": [
    "# Подготовка данных по кварталам"
   ]
  },
  {
   "cell_type": "code",
   "execution_count": 2,
   "metadata": {},
   "outputs": [],
   "source": [
    "df = pd.read_excel('data_new.xlsx', engine='openpyxl')"
   ]
  },
  {
   "cell_type": "code",
   "execution_count": 3,
   "metadata": {},
   "outputs": [],
   "source": [
    "df = df.drop(columns=['ОКАТО'])\n",
    "# отбрасывание столбцов с годовыми показателями\n",
    "for i in range(2013, 2021):\n",
    "    df = df = df.drop(columns=[str(i)+' г. (досчет)'])\n",
    "    if i > 2015:\n",
    "        df = df = df.drop(columns=[str(i)+' г.'])"
   ]
  },
  {
   "cell_type": "code",
   "execution_count": 4,
   "metadata": {},
   "outputs": [],
   "source": [
    "# удаление строк, не относящихся к областям\n",
    "df = df.drop(index=[0, 1, 20, 24, 25, 33, 34, 43, 51, 66, 70, 71, 72, 74, 75, 86, 87, 99, 100])"
   ]
  },
  {
   "cell_type": "code",
   "execution_count": 5,
   "metadata": {},
   "outputs": [],
   "source": [
    "# присвоение областям соответствующих названий округов\n",
    "df['Округ'] = ''\n",
    "df.loc[2:19,'Округ'] = 'Центральный федеральный округ'\n",
    "df.loc[21:32,'Округ'] = 'Северо-Западный федеральный округ'\n",
    "df.loc[35:42,'Округ'] = 'Южный федеральный округ'\n",
    "df.loc[44:50,'Округ'] = 'Северо-Кавказский федеральный округ'\n",
    "df.loc[52:65,'Округ'] = 'Приволжский федеральный округ'\n",
    "df.loc[67:73,'Округ'] = 'Уральский федеральный округ'\n",
    "df.loc[76:85,'Округ'] = 'Сибирский федеральный округ'\n",
    "df.loc[88:98,'Округ'] = 'Дальневосточный федеральный округ'"
   ]
  },
  {
   "cell_type": "code",
   "execution_count": 6,
   "metadata": {},
   "outputs": [],
   "source": [
    "df = df.rename(columns={\"Субъект РФ\": \"Область\"})"
   ]
  },
  {
   "cell_type": "code",
   "execution_count": 7,
   "metadata": {},
   "outputs": [],
   "source": [
    "#unpivot\n",
    "df = pd.melt(df, id_vars=['Область', 'Округ'])\n",
    "df = df.rename(columns={\"variable\": \"Год\", \"value\": \"Кол-во\"})"
   ]
  },
  {
   "cell_type": "code",
   "execution_count": 8,
   "metadata": {},
   "outputs": [],
   "source": [
    "df['Год'] = df['Год'].str.replace('IV кв ','01.10.')\n",
    "df['Год'] = df['Год'].str.replace('III кв ','01.07.')\n",
    "df['Год'] = df['Год'].str.replace('II кв ','01.04.')\n",
    "df['Год'] = df['Год'].str.replace('I кв ','01.01.')"
   ]
  },
  {
   "cell_type": "code",
   "execution_count": 9,
   "metadata": {},
   "outputs": [
    {
     "data": {
      "text/html": [
       "<div>\n",
       "<style scoped>\n",
       "    .dataframe tbody tr th:only-of-type {\n",
       "        vertical-align: middle;\n",
       "    }\n",
       "\n",
       "    .dataframe tbody tr th {\n",
       "        vertical-align: top;\n",
       "    }\n",
       "\n",
       "    .dataframe thead th {\n",
       "        text-align: right;\n",
       "    }\n",
       "</style>\n",
       "<table border=\"1\" class=\"dataframe\">\n",
       "  <thead>\n",
       "    <tr style=\"text-align: right;\">\n",
       "      <th></th>\n",
       "      <th>Область</th>\n",
       "      <th>Округ</th>\n",
       "      <th>Год</th>\n",
       "      <th>Кол-во</th>\n",
       "    </tr>\n",
       "  </thead>\n",
       "  <tbody>\n",
       "    <tr>\n",
       "      <th>0</th>\n",
       "      <td>Белгородская область</td>\n",
       "      <td>Центральный федеральный округ</td>\n",
       "      <td>01.01.2016</td>\n",
       "      <td>37568</td>\n",
       "    </tr>\n",
       "    <tr>\n",
       "      <th>1</th>\n",
       "      <td>Брянская область</td>\n",
       "      <td>Центральный федеральный округ</td>\n",
       "      <td>01.01.2016</td>\n",
       "      <td>13415</td>\n",
       "    </tr>\n",
       "    <tr>\n",
       "      <th>2</th>\n",
       "      <td>Владимирская область</td>\n",
       "      <td>Центральный федеральный округ</td>\n",
       "      <td>01.01.2016</td>\n",
       "      <td>66342</td>\n",
       "    </tr>\n",
       "    <tr>\n",
       "      <th>3</th>\n",
       "      <td>Воронежская область</td>\n",
       "      <td>Центральный федеральный округ</td>\n",
       "      <td>01.01.2016</td>\n",
       "      <td>73521</td>\n",
       "    </tr>\n",
       "    <tr>\n",
       "      <th>4</th>\n",
       "      <td>Ивановская область</td>\n",
       "      <td>Центральный федеральный округ</td>\n",
       "      <td>01.01.2016</td>\n",
       "      <td>61345</td>\n",
       "    </tr>\n",
       "    <tr>\n",
       "      <th>...</th>\n",
       "      <td>...</td>\n",
       "      <td>...</td>\n",
       "      <td>...</td>\n",
       "      <td>...</td>\n",
       "    </tr>\n",
       "    <tr>\n",
       "      <th>1963</th>\n",
       "      <td>Амурская область</td>\n",
       "      <td>Дальневосточный федеральный округ</td>\n",
       "      <td>01.10.2021</td>\n",
       "      <td>4081</td>\n",
       "    </tr>\n",
       "    <tr>\n",
       "      <th>1964</th>\n",
       "      <td>Магаданская область</td>\n",
       "      <td>Дальневосточный федеральный округ</td>\n",
       "      <td>01.10.2021</td>\n",
       "      <td>5390</td>\n",
       "    </tr>\n",
       "    <tr>\n",
       "      <th>1965</th>\n",
       "      <td>Сахалинская область</td>\n",
       "      <td>Дальневосточный федеральный округ</td>\n",
       "      <td>01.10.2021</td>\n",
       "      <td>NaN</td>\n",
       "    </tr>\n",
       "    <tr>\n",
       "      <th>1966</th>\n",
       "      <td>Еврейская автономная область</td>\n",
       "      <td>Дальневосточный федеральный округ</td>\n",
       "      <td>01.10.2021</td>\n",
       "      <td>NaN</td>\n",
       "    </tr>\n",
       "    <tr>\n",
       "      <th>1967</th>\n",
       "      <td>Чукотский автономный округ</td>\n",
       "      <td>Дальневосточный федеральный округ</td>\n",
       "      <td>01.10.2021</td>\n",
       "      <td>NaN</td>\n",
       "    </tr>\n",
       "  </tbody>\n",
       "</table>\n",
       "<p>1968 rows × 4 columns</p>\n",
       "</div>"
      ],
      "text/plain": [
       "                                   Область                              Округ  \\\n",
       "0                     Белгородская область      Центральный федеральный округ   \n",
       "1                         Брянская область      Центральный федеральный округ   \n",
       "2                     Владимирская область      Центральный федеральный округ   \n",
       "3                      Воронежская область      Центральный федеральный округ   \n",
       "4                       Ивановская область      Центральный федеральный округ   \n",
       "...                                    ...                                ...   \n",
       "1963                      Амурская область  Дальневосточный федеральный округ   \n",
       "1964                   Магаданская область  Дальневосточный федеральный округ   \n",
       "1965                   Сахалинская область  Дальневосточный федеральный округ   \n",
       "1966          Еврейская автономная область  Дальневосточный федеральный округ   \n",
       "1967            Чукотский автономный округ  Дальневосточный федеральный округ   \n",
       "\n",
       "             Год Кол-во  \n",
       "0     01.01.2016  37568  \n",
       "1     01.01.2016  13415  \n",
       "2     01.01.2016  66342  \n",
       "3     01.01.2016  73521  \n",
       "4     01.01.2016  61345  \n",
       "...          ...    ...  \n",
       "1963  01.10.2021   4081  \n",
       "1964  01.10.2021   5390  \n",
       "1965  01.10.2021    NaN  \n",
       "1966  01.10.2021    NaN  \n",
       "1967  01.10.2021    NaN  \n",
       "\n",
       "[1968 rows x 4 columns]"
      ]
     },
     "execution_count": 9,
     "metadata": {},
     "output_type": "execute_result"
    }
   ],
   "source": [
    "df"
   ]
  },
  {
   "cell_type": "code",
   "execution_count": 10,
   "metadata": {},
   "outputs": [],
   "source": [
    "df.to_csv('data_q.csv')"
   ]
  }
 ],
 "metadata": {
  "kernelspec": {
   "display_name": "Python 3 (ipykernel)",
   "language": "python",
   "name": "python3"
  },
  "language_info": {
   "codemirror_mode": {
    "name": "ipython",
    "version": 3
   },
   "file_extension": ".py",
   "mimetype": "text/x-python",
   "name": "python",
   "nbconvert_exporter": "python",
   "pygments_lexer": "ipython3",
   "version": "3.9.7"
  }
 },
 "nbformat": 4,
 "nbformat_minor": 4
}
